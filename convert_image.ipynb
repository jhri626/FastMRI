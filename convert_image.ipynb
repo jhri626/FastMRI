{
 "cells": [
  {
   "cell_type": "code",
   "execution_count": null,
   "id": "d2a0f6a5",
   "metadata": {},
   "outputs": [],
   "source": [
    "import h5py\n",
    "import numpy as np\n",
    "from pathlib import Path\n",
    "\n",
    "def split_h5_file_with_attrs(input_file, output_dir, keys):\n",
    "    # Create output directory if it doesn't exist\n",
    "    Path(output_dir).mkdir(parents=True, exist_ok=True)\n",
    "\n",
    "    with h5py.File(input_file, 'r') as hf:\n",
    "        num_slices = hf[keys[0]].shape[0]\n",
    "\n",
    "        # Read file attributes\n",
    "        file_attrs = dict(hf.attrs)\n",
    "\n",
    "        for i in range(num_slices):\n",
    "            output_file = Path(output_dir) / f'{Path(input_file).stem}_slice_{i}.h5'\n",
    "            with h5py.File(output_file, 'w') as out_hf:\n",
    "                for key in keys:\n",
    "                    out_hf.create_dataset(key, data=hf[key][i])\n",
    "                # Add file attributes to each slice file\n",
    "                for attr_key, attr_value in file_attrs.items():\n",
    "                    out_hf.attrs[attr_key] = attr_value\n",
    "\n",
    "def process_all_files_in_folder(input_folder, output_folder, keys):\n",
    "    input_path = Path(input_folder)\n",
    "    for input_file in input_path.glob('*.h5'):\n",
    "        split_h5_file_with_attrs(input_file, output_folder, keys)\n",
    "\n",
    "# Example usage\n",
    "input_folder = '/home/Data/train/image'\n",
    "output_folder = '/home/newtrain/image/'\n",
    "keys = ['image_grappa', 'image_input', 'image_label']\n",
    "\n",
    "process_all_files_in_folder(input_folder, output_folder, keys)\n"
   ]
  }
 ],
 "metadata": {
  "kernelspec": {
   "display_name": "Python 3 (ipykernel)",
   "language": "python",
   "name": "python3"
  },
  "language_info": {
   "codemirror_mode": {
    "name": "ipython",
    "version": 3
   },
   "file_extension": ".py",
   "mimetype": "text/x-python",
   "name": "python",
   "nbconvert_exporter": "python",
   "pygments_lexer": "ipython3",
   "version": "3.8.10"
  }
 },
 "nbformat": 4,
 "nbformat_minor": 5
}
