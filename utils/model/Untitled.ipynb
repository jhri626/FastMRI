{
 "cells": [
  {
   "cell_type": "code",
   "execution_count": 2,
   "id": "09ac1087",
   "metadata": {},
   "outputs": [
    {
     "name": "stderr",
     "output_type": "stream",
     "text": [
      "/usr/local/lib/python3.8/dist-packages/tqdm/auto.py:22: TqdmWarning: IProgress not found. Please update jupyter and ipywidgets. See https://ipywidgets.readthedocs.io/en/stable/user_install.html\n",
      "  from .autonotebook import tqdm as notebook_tqdm\n",
      "/tmp/ipykernel_25575/1322329964.py:5: UserWarning: To copy construct from a tensor, it is recommended to use sourceTensor.clone().detach() or sourceTensor.clone().detach().requires_grad_(True), rather than torch.tensor(sourceTensor).\n",
      "  b = torch.tensor(a)\n"
     ]
    }
   ],
   "source": [
    "import torch\n",
    "a=[0,0]\n",
    "a = torch.tensor(a)\n",
    "b= [0,0]\n",
    "b = torch.tensor(a)"
   ]
  },
  {
   "cell_type": "code",
   "execution_count": 6,
   "id": "815d45aa",
   "metadata": {},
   "outputs": [
    {
     "data": {
      "text/plain": [
       "tensor(0.)"
      ]
     },
     "execution_count": 6,
     "metadata": {},
     "output_type": "execute_result"
    }
   ],
   "source": [
    "(a**2).sum(dim=-1).sqrt()"
   ]
  },
  {
   "cell_type": "code",
   "execution_count": 8,
   "id": "394cf503",
   "metadata": {},
   "outputs": [
    {
     "name": "stdout",
     "output_type": "stream",
     "text": [
      "tensor([ 0.+2.j, -1.+0.j])\n",
      "tensor(0.+1.7321j)\n"
     ]
    }
   ],
   "source": [
    "import torch\n",
    "\n",
    "# 복소수 텐서 생성\n",
    "data = torch.tensor([1 + 1j, 0 + 1j], dtype=torch.complex64)\n",
    "\n",
    "# 복소수 제곱\n",
    "squared_data = data ** 2\n",
    "\n",
    "print(squared_data)  # tensor([0.0000+2.0000j, -1.0000+0.0000j])\n",
    "print((squared_data**2).sum(dim=-1).sqrt())"
   ]
  },
  {
   "cell_type": "code",
   "execution_count": 11,
   "id": "7c3c8169",
   "metadata": {},
   "outputs": [
    {
     "name": "stdout",
     "output_type": "stream",
     "text": [
      "tensor([[0., 0.],\n",
      "        [0., 0.]])\n"
     ]
    }
   ],
   "source": [
    "import torch\n",
    "\n",
    "# 음수 값을 가지는 예시 데이터 생성\n",
    "data = torch.tensor([[[0.0, 0.0], [0.0, 0.0]], [[0.0, 0.0], [0.0, 0.0]]])\n",
    "\n",
    "# 함수 정의\n",
    "def complex_abs(data: torch.Tensor) -> torch.Tensor:\n",
    "    if not data.shape[-1] == 2:\n",
    "        raise ValueError(\"Tensor does not have separate complex dim.\")\n",
    "    \n",
    "    return (data ** 2).sum(dim=-1).sqrt()\n",
    "\n",
    "# 절대값 계산 시도\n",
    "try:\n",
    "    abs_values = complex_abs(data)\n",
    "    print(abs_values)\n",
    "except Exception as e:\n",
    "    print(e)\n"
   ]
  }
 ],
 "metadata": {
  "kernelspec": {
   "display_name": "Python 3 (ipykernel)",
   "language": "python",
   "name": "python3"
  },
  "language_info": {
   "codemirror_mode": {
    "name": "ipython",
    "version": 3
   },
   "file_extension": ".py",
   "mimetype": "text/x-python",
   "name": "python",
   "nbconvert_exporter": "python",
   "pygments_lexer": "ipython3",
   "version": "3.8.10"
  }
 },
 "nbformat": 4,
 "nbformat_minor": 5
}
