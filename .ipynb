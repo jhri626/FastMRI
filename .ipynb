{
 "cells": [
  {
   "cell_type": "code",
   "execution_count": null,
   "id": "d84b6757",
   "metadata": {},
   "outputs": [],
   "source": [
    "#kspace 변환\n",
    "import h5py\n",
    "import numpy as np\n",
    "from pathlib import Path\n",
    "\n",
    "def split_h5_file(input_file, output_dir, tensor_key, vector_key):\n",
    "    Path(output_dir).mkdir(parents=True, exist_ok=True)\n",
    "\n",
    "    with h5py.File(input_file, 'r') as hf:\n",
    "        tensor_data = hf[tensor_key][:]\n",
    "        vector_data = hf[vector_key][:]\n",
    "\n",
    "        num_slices = tensor_data.shape[0]\n",
    "\n",
    "        for i in range(num_slices):\n",
    "            output_file = Path(output_dir) / f'{Path(input_file).stem}_slice_{i}.h5'\n",
    "            with h5py.File(output_file, 'w') as out_hf:\n",
    "                out_hf.create_dataset(tensor_key, data=tensor_data[i:i+1])\n",
    "                out_hf.create_dataset(vector_key, data=vector_data)\n",
    "\n",
    "# 예시 사용\n",
    "input_file = '/Home/Data/train/kspace/brain_acc4_1.h5'\n",
    "\n",
    "output_dir = '/Home/Data/newtrain/kspace/'\n",
    "tensor_key = 'kspace'\n",
    "vector_key = 'mask'\n",
    "\n",
    "split_h5_file(input_file, output_dir, tensor_key, vector_key)\n"
   ]
  }
 ],
 "metadata": {
  "kernelspec": {
   "display_name": "Python 3 (ipykernel)",
   "language": "python",
   "name": "python3"
  },
  "language_info": {
   "codemirror_mode": {
    "name": "ipython",
    "version": 3
   },
   "file_extension": ".py",
   "mimetype": "text/x-python",
   "name": "python",
   "nbconvert_exporter": "python",
   "pygments_lexer": "ipython3",
   "version": "3.8.10"
  }
 },
 "nbformat": 4,
 "nbformat_minor": 5
}
